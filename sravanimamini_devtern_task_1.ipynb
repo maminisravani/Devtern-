{
  "nbformat": 4,
  "nbformat_minor": 0,
  "metadata": {
    "colab": {
      "provenance": [],
      "mount_file_id": "1eGOFbt0mDwrwSfGcRzMnyl_TMX666_Ti",
      "authorship_tag": "ABX9TyOwl9qs4yKJQuEiiwNSDvUA",
      "include_colab_link": true
    },
    "kernelspec": {
      "name": "python3",
      "display_name": "Python 3"
    },
    "language_info": {
      "name": "python"
    }
  },
  "cells": [
    {
      "cell_type": "markdown",
      "metadata": {
        "id": "view-in-github",
        "colab_type": "text"
      },
      "source": [
        "<a href=\"https://colab.research.google.com/github/maminisravani/Devtern-/blob/main/sravanimamini_devtern_task_1.ipynb\" target=\"_parent\"><img src=\"https://colab.research.google.com/assets/colab-badge.svg\" alt=\"Open In Colab\"/></a>"
      ]
    },
    {
      "cell_type": "code",
      "execution_count": null,
      "metadata": {
        "id": "R7N4pgDhi8Wp"
      },
      "outputs": [],
      "source": [
        "import pandas as pd\n",
        "import numpy as np\n",
        "from sklearn.feature_extraction.text import TfidfVectorizer\n",
        "from sklearn.model_selection import train_test_split\n",
        "from sklearn.linear_model import PassiveAggressiveClassifier\n",
        "from sklearn.metrics import accuracy_score, confusion_matrix, classification_report\n",
        "import itertools\n",
        "import seaborn as sns\n",
        "import matplotlib.pyplot as plt"
      ]
    },
    {
      "cell_type": "code",
      "source": [
        "news_data= pd.read_csv(\"/content/news.csv\")\n",
        "news_data.tail(10)"
      ],
      "metadata": {
        "colab": {
          "base_uri": "https://localhost:8080/",
          "height": 363
        },
        "id": "0v4AkpAKjtGf",
        "outputId": "978d2104-1c3a-40eb-aa57-385c6fba3df7"
      },
      "execution_count": null,
      "outputs": [
        {
          "output_type": "execute_result",
          "data": {
            "text/plain": [
              "      Unnamed: 0                                              title  \\\n",
              "6325        8411  Will the Media Reset After the Election or Are...   \n",
              "6326        6143  DOJ COMPLAINT: Comey Under Fire Over Partisan ...   \n",
              "6327        3262  GOP Senator David Perdue Jokes About Praying f...   \n",
              "6328        9337  Radio Derb Is On The Air–Leonardo And Brazil’s...   \n",
              "6329        8737  Assange claims ‘crazed’ Clinton campaign tried...   \n",
              "6330        4490  State Department says it can't find emails fro...   \n",
              "6331        8062  The ‘P’ in PBS Should Stand for ‘Plutocratic’ ...   \n",
              "6332        8622  Anti-Trump Protesters Are Tools of the Oligarc...   \n",
              "6333        4021  In Ethiopia, Obama seeks progress on peace, se...   \n",
              "6334        4330  Jeb Bush Is Suddenly Attacking Trump. Here's W...   \n",
              "\n",
              "                                                   text label  \n",
              "6325  Written by Peter Van Buren   venerable New Yor...  FAKE  \n",
              "6326  DOJ COMPLAINT: Comey Under Fire Over Partisan ...  FAKE  \n",
              "6327  The freshman senator from Georgia quoted scrip...  REAL  \n",
              "6328                                                     FAKE  \n",
              "6329  Julian Assange has claimed the Hillary Clinton...  FAKE  \n",
              "6330  The State Department told the Republican Natio...  REAL  \n",
              "6331  The ‘P’ in PBS Should Stand for ‘Plutocratic’ ...  FAKE  \n",
              "6332   Anti-Trump Protesters Are Tools of the Oligar...  FAKE  \n",
              "6333  ADDIS ABABA, Ethiopia —President Obama convene...  REAL  \n",
              "6334  Jeb Bush Is Suddenly Attacking Trump. Here's W...  REAL  "
            ],
            "text/html": [
              "\n",
              "  <div id=\"df-2a05b996-ba37-4356-905b-6c69a45a4178\" class=\"colab-df-container\">\n",
              "    <div>\n",
              "<style scoped>\n",
              "    .dataframe tbody tr th:only-of-type {\n",
              "        vertical-align: middle;\n",
              "    }\n",
              "\n",
              "    .dataframe tbody tr th {\n",
              "        vertical-align: top;\n",
              "    }\n",
              "\n",
              "    .dataframe thead th {\n",
              "        text-align: right;\n",
              "    }\n",
              "</style>\n",
              "<table border=\"1\" class=\"dataframe\">\n",
              "  <thead>\n",
              "    <tr style=\"text-align: right;\">\n",
              "      <th></th>\n",
              "      <th>Unnamed: 0</th>\n",
              "      <th>title</th>\n",
              "      <th>text</th>\n",
              "      <th>label</th>\n",
              "    </tr>\n",
              "  </thead>\n",
              "  <tbody>\n",
              "    <tr>\n",
              "      <th>6325</th>\n",
              "      <td>8411</td>\n",
              "      <td>Will the Media Reset After the Election or Are...</td>\n",
              "      <td>Written by Peter Van Buren   venerable New Yor...</td>\n",
              "      <td>FAKE</td>\n",
              "    </tr>\n",
              "    <tr>\n",
              "      <th>6326</th>\n",
              "      <td>6143</td>\n",
              "      <td>DOJ COMPLAINT: Comey Under Fire Over Partisan ...</td>\n",
              "      <td>DOJ COMPLAINT: Comey Under Fire Over Partisan ...</td>\n",
              "      <td>FAKE</td>\n",
              "    </tr>\n",
              "    <tr>\n",
              "      <th>6327</th>\n",
              "      <td>3262</td>\n",
              "      <td>GOP Senator David Perdue Jokes About Praying f...</td>\n",
              "      <td>The freshman senator from Georgia quoted scrip...</td>\n",
              "      <td>REAL</td>\n",
              "    </tr>\n",
              "    <tr>\n",
              "      <th>6328</th>\n",
              "      <td>9337</td>\n",
              "      <td>Radio Derb Is On The Air–Leonardo And Brazil’s...</td>\n",
              "      <td></td>\n",
              "      <td>FAKE</td>\n",
              "    </tr>\n",
              "    <tr>\n",
              "      <th>6329</th>\n",
              "      <td>8737</td>\n",
              "      <td>Assange claims ‘crazed’ Clinton campaign tried...</td>\n",
              "      <td>Julian Assange has claimed the Hillary Clinton...</td>\n",
              "      <td>FAKE</td>\n",
              "    </tr>\n",
              "    <tr>\n",
              "      <th>6330</th>\n",
              "      <td>4490</td>\n",
              "      <td>State Department says it can't find emails fro...</td>\n",
              "      <td>The State Department told the Republican Natio...</td>\n",
              "      <td>REAL</td>\n",
              "    </tr>\n",
              "    <tr>\n",
              "      <th>6331</th>\n",
              "      <td>8062</td>\n",
              "      <td>The ‘P’ in PBS Should Stand for ‘Plutocratic’ ...</td>\n",
              "      <td>The ‘P’ in PBS Should Stand for ‘Plutocratic’ ...</td>\n",
              "      <td>FAKE</td>\n",
              "    </tr>\n",
              "    <tr>\n",
              "      <th>6332</th>\n",
              "      <td>8622</td>\n",
              "      <td>Anti-Trump Protesters Are Tools of the Oligarc...</td>\n",
              "      <td>Anti-Trump Protesters Are Tools of the Oligar...</td>\n",
              "      <td>FAKE</td>\n",
              "    </tr>\n",
              "    <tr>\n",
              "      <th>6333</th>\n",
              "      <td>4021</td>\n",
              "      <td>In Ethiopia, Obama seeks progress on peace, se...</td>\n",
              "      <td>ADDIS ABABA, Ethiopia —President Obama convene...</td>\n",
              "      <td>REAL</td>\n",
              "    </tr>\n",
              "    <tr>\n",
              "      <th>6334</th>\n",
              "      <td>4330</td>\n",
              "      <td>Jeb Bush Is Suddenly Attacking Trump. Here's W...</td>\n",
              "      <td>Jeb Bush Is Suddenly Attacking Trump. Here's W...</td>\n",
              "      <td>REAL</td>\n",
              "    </tr>\n",
              "  </tbody>\n",
              "</table>\n",
              "</div>\n",
              "    <div class=\"colab-df-buttons\">\n",
              "\n",
              "  <div class=\"colab-df-container\">\n",
              "    <button class=\"colab-df-convert\" onclick=\"convertToInteractive('df-2a05b996-ba37-4356-905b-6c69a45a4178')\"\n",
              "            title=\"Convert this dataframe to an interactive table.\"\n",
              "            style=\"display:none;\">\n",
              "\n",
              "  <svg xmlns=\"http://www.w3.org/2000/svg\" height=\"24px\" viewBox=\"0 -960 960 960\">\n",
              "    <path d=\"M120-120v-720h720v720H120Zm60-500h600v-160H180v160Zm220 220h160v-160H400v160Zm0 220h160v-160H400v160ZM180-400h160v-160H180v160Zm440 0h160v-160H620v160ZM180-180h160v-160H180v160Zm440 0h160v-160H620v160Z\"/>\n",
              "  </svg>\n",
              "    </button>\n",
              "\n",
              "  <style>\n",
              "    .colab-df-container {\n",
              "      display:flex;\n",
              "      gap: 12px;\n",
              "    }\n",
              "\n",
              "    .colab-df-convert {\n",
              "      background-color: #E8F0FE;\n",
              "      border: none;\n",
              "      border-radius: 50%;\n",
              "      cursor: pointer;\n",
              "      display: none;\n",
              "      fill: #1967D2;\n",
              "      height: 32px;\n",
              "      padding: 0 0 0 0;\n",
              "      width: 32px;\n",
              "    }\n",
              "\n",
              "    .colab-df-convert:hover {\n",
              "      background-color: #E2EBFA;\n",
              "      box-shadow: 0px 1px 2px rgba(60, 64, 67, 0.3), 0px 1px 3px 1px rgba(60, 64, 67, 0.15);\n",
              "      fill: #174EA6;\n",
              "    }\n",
              "\n",
              "    .colab-df-buttons div {\n",
              "      margin-bottom: 4px;\n",
              "    }\n",
              "\n",
              "    [theme=dark] .colab-df-convert {\n",
              "      background-color: #3B4455;\n",
              "      fill: #D2E3FC;\n",
              "    }\n",
              "\n",
              "    [theme=dark] .colab-df-convert:hover {\n",
              "      background-color: #434B5C;\n",
              "      box-shadow: 0px 1px 3px 1px rgba(0, 0, 0, 0.15);\n",
              "      filter: drop-shadow(0px 1px 2px rgba(0, 0, 0, 0.3));\n",
              "      fill: #FFFFFF;\n",
              "    }\n",
              "  </style>\n",
              "\n",
              "    <script>\n",
              "      const buttonEl =\n",
              "        document.querySelector('#df-2a05b996-ba37-4356-905b-6c69a45a4178 button.colab-df-convert');\n",
              "      buttonEl.style.display =\n",
              "        google.colab.kernel.accessAllowed ? 'block' : 'none';\n",
              "\n",
              "      async function convertToInteractive(key) {\n",
              "        const element = document.querySelector('#df-2a05b996-ba37-4356-905b-6c69a45a4178');\n",
              "        const dataTable =\n",
              "          await google.colab.kernel.invokeFunction('convertToInteractive',\n",
              "                                                    [key], {});\n",
              "        if (!dataTable) return;\n",
              "\n",
              "        const docLinkHtml = 'Like what you see? Visit the ' +\n",
              "          '<a target=\"_blank\" href=https://colab.research.google.com/notebooks/data_table.ipynb>data table notebook</a>'\n",
              "          + ' to learn more about interactive tables.';\n",
              "        element.innerHTML = '';\n",
              "        dataTable['output_type'] = 'display_data';\n",
              "        await google.colab.output.renderOutput(dataTable, element);\n",
              "        const docLink = document.createElement('div');\n",
              "        docLink.innerHTML = docLinkHtml;\n",
              "        element.appendChild(docLink);\n",
              "      }\n",
              "    </script>\n",
              "  </div>\n",
              "\n",
              "\n",
              "<div id=\"df-75f52bc7-850a-4814-a86d-b8a46c6adccf\">\n",
              "  <button class=\"colab-df-quickchart\" onclick=\"quickchart('df-75f52bc7-850a-4814-a86d-b8a46c6adccf')\"\n",
              "            title=\"Suggest charts\"\n",
              "            style=\"display:none;\">\n",
              "\n",
              "<svg xmlns=\"http://www.w3.org/2000/svg\" height=\"24px\"viewBox=\"0 0 24 24\"\n",
              "     width=\"24px\">\n",
              "    <g>\n",
              "        <path d=\"M19 3H5c-1.1 0-2 .9-2 2v14c0 1.1.9 2 2 2h14c1.1 0 2-.9 2-2V5c0-1.1-.9-2-2-2zM9 17H7v-7h2v7zm4 0h-2V7h2v10zm4 0h-2v-4h2v4z\"/>\n",
              "    </g>\n",
              "</svg>\n",
              "  </button>\n",
              "\n",
              "<style>\n",
              "  .colab-df-quickchart {\n",
              "      --bg-color: #E8F0FE;\n",
              "      --fill-color: #1967D2;\n",
              "      --hover-bg-color: #E2EBFA;\n",
              "      --hover-fill-color: #174EA6;\n",
              "      --disabled-fill-color: #AAA;\n",
              "      --disabled-bg-color: #DDD;\n",
              "  }\n",
              "\n",
              "  [theme=dark] .colab-df-quickchart {\n",
              "      --bg-color: #3B4455;\n",
              "      --fill-color: #D2E3FC;\n",
              "      --hover-bg-color: #434B5C;\n",
              "      --hover-fill-color: #FFFFFF;\n",
              "      --disabled-bg-color: #3B4455;\n",
              "      --disabled-fill-color: #666;\n",
              "  }\n",
              "\n",
              "  .colab-df-quickchart {\n",
              "    background-color: var(--bg-color);\n",
              "    border: none;\n",
              "    border-radius: 50%;\n",
              "    cursor: pointer;\n",
              "    display: none;\n",
              "    fill: var(--fill-color);\n",
              "    height: 32px;\n",
              "    padding: 0;\n",
              "    width: 32px;\n",
              "  }\n",
              "\n",
              "  .colab-df-quickchart:hover {\n",
              "    background-color: var(--hover-bg-color);\n",
              "    box-shadow: 0 1px 2px rgba(60, 64, 67, 0.3), 0 1px 3px 1px rgba(60, 64, 67, 0.15);\n",
              "    fill: var(--button-hover-fill-color);\n",
              "  }\n",
              "\n",
              "  .colab-df-quickchart-complete:disabled,\n",
              "  .colab-df-quickchart-complete:disabled:hover {\n",
              "    background-color: var(--disabled-bg-color);\n",
              "    fill: var(--disabled-fill-color);\n",
              "    box-shadow: none;\n",
              "  }\n",
              "\n",
              "  .colab-df-spinner {\n",
              "    border: 2px solid var(--fill-color);\n",
              "    border-color: transparent;\n",
              "    border-bottom-color: var(--fill-color);\n",
              "    animation:\n",
              "      spin 1s steps(1) infinite;\n",
              "  }\n",
              "\n",
              "  @keyframes spin {\n",
              "    0% {\n",
              "      border-color: transparent;\n",
              "      border-bottom-color: var(--fill-color);\n",
              "      border-left-color: var(--fill-color);\n",
              "    }\n",
              "    20% {\n",
              "      border-color: transparent;\n",
              "      border-left-color: var(--fill-color);\n",
              "      border-top-color: var(--fill-color);\n",
              "    }\n",
              "    30% {\n",
              "      border-color: transparent;\n",
              "      border-left-color: var(--fill-color);\n",
              "      border-top-color: var(--fill-color);\n",
              "      border-right-color: var(--fill-color);\n",
              "    }\n",
              "    40% {\n",
              "      border-color: transparent;\n",
              "      border-right-color: var(--fill-color);\n",
              "      border-top-color: var(--fill-color);\n",
              "    }\n",
              "    60% {\n",
              "      border-color: transparent;\n",
              "      border-right-color: var(--fill-color);\n",
              "    }\n",
              "    80% {\n",
              "      border-color: transparent;\n",
              "      border-right-color: var(--fill-color);\n",
              "      border-bottom-color: var(--fill-color);\n",
              "    }\n",
              "    90% {\n",
              "      border-color: transparent;\n",
              "      border-bottom-color: var(--fill-color);\n",
              "    }\n",
              "  }\n",
              "</style>\n",
              "\n",
              "  <script>\n",
              "    async function quickchart(key) {\n",
              "      const quickchartButtonEl =\n",
              "        document.querySelector('#' + key + ' button');\n",
              "      quickchartButtonEl.disabled = true;  // To prevent multiple clicks.\n",
              "      quickchartButtonEl.classList.add('colab-df-spinner');\n",
              "      try {\n",
              "        const charts = await google.colab.kernel.invokeFunction(\n",
              "            'suggestCharts', [key], {});\n",
              "      } catch (error) {\n",
              "        console.error('Error during call to suggestCharts:', error);\n",
              "      }\n",
              "      quickchartButtonEl.classList.remove('colab-df-spinner');\n",
              "      quickchartButtonEl.classList.add('colab-df-quickchart-complete');\n",
              "    }\n",
              "    (() => {\n",
              "      let quickchartButtonEl =\n",
              "        document.querySelector('#df-75f52bc7-850a-4814-a86d-b8a46c6adccf button');\n",
              "      quickchartButtonEl.style.display =\n",
              "        google.colab.kernel.accessAllowed ? 'block' : 'none';\n",
              "    })();\n",
              "  </script>\n",
              "</div>\n",
              "\n",
              "    </div>\n",
              "  </div>\n"
            ],
            "application/vnd.google.colaboratory.intrinsic+json": {
              "type": "dataframe",
              "summary": "{\n  \"name\": \"news_data\",\n  \"rows\": 10,\n  \"fields\": [\n    {\n      \"column\": \"Unnamed: 0\",\n      \"properties\": {\n        \"dtype\": \"number\",\n        \"std\": 2336,\n        \"min\": 3262,\n        \"max\": 9337,\n        \"num_unique_values\": 10,\n        \"samples\": [\n          4021,\n          6143,\n          4490\n        ],\n        \"semantic_type\": \"\",\n        \"description\": \"\"\n      }\n    },\n    {\n      \"column\": \"title\",\n      \"properties\": {\n        \"dtype\": \"string\",\n        \"num_unique_values\": 10,\n        \"samples\": [\n          \"In Ethiopia, Obama seeks progress on peace, security in East Africa\",\n          \"DOJ COMPLAINT: Comey Under Fire Over Partisan Witch Hunt For Hillary (TWEETS/VIDEO)\",\n          \"State Department says it can't find emails from Clinton IT specialist\"\n        ],\n        \"semantic_type\": \"\",\n        \"description\": \"\"\n      }\n    },\n    {\n      \"column\": \"text\",\n      \"properties\": {\n        \"dtype\": \"string\",\n        \"num_unique_values\": 10,\n        \"samples\": [\n          \"ADDIS ABABA, Ethiopia \\u2014President Obama convened a meeting with the leaders of several East African nations and the African Union on Monday in an effort to address the worsening situation in South Sudan, even as he met with Ethiopia\\u2019s prime minister to discuss how to strengthen human rights and democratic institutions here.\\n\\nWith no resolution in sight for the ongoing conflict in South Sudan, Obama brought together top officials from Ethiopia, Uganda, Kenya, Sudan and the A.U. to chart out a strategy in the event that the latest round of peace talks fail.\\n\\nAfrican nations, led by Ethiopia, have been trying to broker a peace in South Sudan through the Intergovernmental Authority on Development (IGAD), a regional body, and are almost ready to present a possible compromise to the warring parties. The two sides will have until Aug. 17 to respond to the proposal, but administration officials have little expectation that they will accept it.\\n\\nOn Monday, Obama praised the regional leaders for showing \\u201cextraordinary leadership in trying to address the continuing situation in South Sudan.\\u201d The group included Ethiopian Prime Minister Hailemariam Desalegn, Ugandan President Yoweri Museveni, Kenyan President Uhuru Kenyatta, African Union Chairperson Dlamini Zuma and Sudan\\u2019s minister of foreign affairs, Ibrahim Ghandour.\\n\\n\\u201cThis gives me and the U.S. delegation an opportunity to learn from them what progress has been made, where there appears to be continued roadblocks and how we can partner with them to make progress,\\u201d Obama said. \\u201cOur hope is that we can actually bring about the kind of peace that the people of South Sudan so desperately need.\\u201d\\n\\nThe question of South Sudan \\u2014 a nation that the United States helped bring into existence in 2011 after years of effort by both the George W. Bush and Obama administrations \\u2014 has vexed American policymakers for years.\\n\\nIn December 2013, South Sudan President Salva Kiir accused Riek Machar, who had served as his vice president, of attempting a coup d\\u2019etat. The two had been longtime political rivals from different ethnic groups \\u2014 Kiir is Dinka, Machar is a Nuer \\u2014 who had come together to form a government when the country was first created.\\n\\nWhile tribal differences have helped fuel the conflict, the war has been largely focused on control of the nation\\u2019s oil fields, South Sudan\\u2019s primary source of revenue.\\n\\nPrinceton Lyman, U.S. special envoy for Sudan and South Sudan from 2011 to 2013, noted that when he first took over as envoy, the United States had spent $10 billion on peacekeeping and other assistance for the two nations, \\u201cand that was four years ago\\u2026 This is a big investment,\\u201d he added.\\n\\nAt this point, more than 2.5 million people are facing food shortages, while roughly 1.5 million are displaced from their homes. An additional 520,000 South Sudanese have fled across the border into neighboring countries, including Ethiopia.\\n\\nThe conflict also poses a major economic problem for Kenya, which had major investments in South Sudan before the fighting broke out. The LAPSSET Corridor project was aimed at transporting oil from South Sudan to the Kenyan port of Lamu, and according to E.J. Hogendoorn, deputy program director for Africa at the International Crisis Group, the planned transportation and infrastructure development could have been an \\u201cengine of development\\\" for many parts of East Africa. \\\"Unfortunately, of course, that\\u2019s on hold because of the war,\\u201d he said.\\n\\nWhile Obama spent part of the afternoon addressing a regional conflict in Africa, he devoted the rest of the day to strengthening ties with Ethiopia, whose alliance with the United States dates back more than a century. But the current government has come under sharp criticism for its treatment of political opponents and journalists.\\n\\nObama is the first sitting U.S. president to visit Ethiopia.\\n\\nIn a news conference Monday afternoon, both Obama and Hailemariam said they had a frank discussion about Ethiopia's human rights practices and the need for improvement. Ethiopia is Africa\\u2019s number two jailer of journalists, according to the Committee to Protect Journalists, and its ruling party won 100 percent of the seats in May\\u2019s parliamentary elections.\\n\\nWhite House national security adviser Susan Rice, asked last week whether she considered Ethiopia a democracy, replied, with irony: \\u201cOne hundred percent.\\u201d\\n\\nBut during the news conference Obama twice referred to the Ethiopian government as \\u201cdemocratically elected.\\u201d\\n\\n\\u201cI don\\u2019t bite my tongue,\\u201d Obama said of raising concerns on these issues with Ethiopia. \\u201cBut I do so from a position of respect.\\u201d\\n\\nHailemariam, for his part, said, \\u201cOur commitment to democracy is real, not skin deep.\\u201d\\n\\nBut he added later that people could not expect sweeping reforms given the fact that military rule ended just a couple of decades ago. \\u201cSomething has to be understood: This is a fledgling democracy.\\u201d\\n\\nThe two leaders also discussed their collaboration on counterterrorism, an area in which Ethiopia has been an active leader. The White House announced Monday it will \\u201cwork with Congress to provide approximately $465 million\\u201d this year in new training, equipment and capacity-building aid to its African allies.\\n\\nThe administration also said it would provide at least $40 million in assistance this fiscal year to combat violent extremism in East Africa. The money is intended to foster collaboration among security forces, law enforcement, government officials, community leaders and members of civil society, officials said.\\n\\nObama praised Ethiopia\\u2019s work to curb extremist activity but noted that its government had labeled some opposition groups as posing a greater threat than U.S. intelligence would indicate. \\u201cOur intelligence indicates while they may oppose the government, they have not tipped into terrorism,\\u201d he said.\\n\\nThe United States provides more than $600 million in\\u00a0assistance to Ethiopia annually. The vast bulk of that \\u2014 $490 million \\u2014 comes from the U.S. Agency for International Development, while the rest is largely security-related. Last fiscal year, nearly $200 million went to health programs, while $163 million went to humanitarian aid.\\n\\nObama said Ethiopia \\u201chas proven itself a global leader\\u201d on development and over the past 15 years \\u201chas lifted millions of people out of poverty.\\u201d\\n\\n\\u201cTo many people around the world, their image of Ethiopia remains stuck in the past, remembering drought and famine,\\u201d he said.\\n\\nThe two leaders appeared to have a friendly rapport throughout the news conference. Hailemariam described his country as scoring a series of firsts: Along with being \\u201cthe cradle of mankind,\\u201d he said, \\u201cEthiopia is the birthplace of coffee.\\u201d That elicited a smile from Obama.\\n\\nObama said he was impressed by the Ethiopian\\u2019s unusual pets. \\u201cI had a chance to see the famous lions that live on the grounds,\\\" he said. \\\"I\\u2019m considering getting some for the White House.\\u201d But he conceded that before he did that, \\u201cI\\u2019ll have to make sure my dogs are safe.\\u201d\",\n          \"DOJ COMPLAINT: Comey Under Fire Over Partisan Witch Hunt For Hillary (TWEETS/VIDEO) By Natalie Dailey on October 30, 2016 Subscribe \\nFor pretty much this entire election, Democratic presidential nominee Hillary Clinton has gotten flak for the way she handled her emails during her tenure as Secretary of State. Congressional Republicans grilled her for hours about it, but have found nothing. These same Republicans just keep on complaining anyway. \\nNow, the Director of the FBI, James Comey, wrote a memo saying some newly-found emails may be linked to Hillary Clinton and her private server. \\nThe media and the supporters of Republican presidential nominee Donald Trump are excited about the possibility of the FBI reopening the investigation. \\nSorry, guys, it\\u2019s not. \\nA Republican Congressman started a Twitter shitstorm over this news: FBI Dir just informed me, \\\"The FBI has learned of the existence of emails that appear to be pertinent to the investigation.\\\" Case reopened \\n\\u2014 Jason Chaffetz (@jasoninthehouse) October 28, 2016 \\nSpeaker of the House, Paul Ryan (R-Wis), said that Clinton\\u2019s security briefings should stop: BREAKING NEWS \\u2192 The FBI is reopening its investigation into Secretary Hillary Clinton. \\nMy full statement \\u21e9 pic.twitter.com/LHfyg46dWk \\n\\u2014 Paul Ryan (@SpeakerRyan) October 28, 2016 \\nAt least Hillary Clinton didn\\u2019t blab classified information on television. \\nMany news outlets falsely reported that the entire investigation was back on. \\nThe Associated Press tweeted: BREAKING: US official: Newly discovered emails related to Clinton investigation did not come from her private server. \\n\\u2014 AP Politics (@AP_Politics) October 28, 2016 \\nThe emails were found during the investigation of disgraced ex-Congressman Anthony Weiner and his latest sexting scandal involving a 15-year-old girl. \\nThe FBI doesn\\u2019t know for sure what is in the emails. It is very difficult to read emails when you don\\u2019t have a warrant to do so. This puts Comey\\u2019s letter to Congress in an even shadier light. All they know is that none of the emails are to or from Clinton herself, and they may only be duplicates of emails the FBI already has in their possession. \\nThe Department of Justice has received a complaint from the Democratic Coalition Against Trump accusing FBI Director Comey of violating the Hatch Act . \\nThe complaint reads in part: \\u201cThis is an election year, and we are just 11 days away from the date that the American public votes to choose the next President of the United States, I am writing to ask that an investigation be opened into Director Comey for any potential violations of the Hatch Act. The timing of this announcement, accompanied by the vague facts of the investigation, seems as if Director Comey was making a political move, and not a professional one.\\u201d \\nPassed in 1939, the Hatch Act limits political activity of federal employees and certain state and D.C. employees who work with federal funding. It is meant to keep federal agencies from taking sides politically, and prevents employees from getting promotions based on political affiliations.\",\n          \"The State Department told the Republican National Committee that it could not find any emails to or from Hillary Clinton's former IT specialist, who managed her private email server during her tenure as secretary of state before going on to work for the agency, according to a court filing made public Monday.\\n\\n\\n\\nThe government's revelation in U.S. District Court in Washington came in answer to a lawsuit by the Republican National Committee. The RNC had sued over its public records request for all work-related emails sent to or received by Clinton's former aide, Bryan Pagliano, between 2009 and 2013, the years of Clinton's tenure as America's top diplomat. The lawsuit also pressed for other State Department records from the Clinton era.\\n\\nThe RNC's filing said lawyers for the agency had informed them in discussions that \\\"the State Department has represented that no responsive records exist\\\" for any Pagliano emails. Pagliano was hired at the agency after reportedly setting up Clinton's server in 2009, but the lack of any official State Department emails raises the question whether he limited his email traffic using a private account, much like Clinton did during her four years as secretary, or whether his government emails were deleted.\\n\\n\\n\\nA State Department official said Monday that the agency possessed emails from Pagliano from the period after Clinton's term had ended, when he continued to work as a technology contractor.\\n\\nAgency spokeswoman Elizabeth Trudeau then added Monday evening that some Pagliano emails dating from Clinton's tenure had been recovered from agency officials' files and turned over to other organizations, including Senate investigators.\\n\\n\\n\\n\\\"We have previously produced through FOIA and to Congress emails sent and received by Mr. Pagliano during Secretary Clinton's tenure,\\\" Trudeau said in a public statement. At least one email, which was sent in November 2012 to Clinton from Pagliano -- but possibly from his private email address -- was released as part of 30,000 Clinton emails made public by the agency over the past year.\\n\\n\\n\\nA spokesman for the RNC said the organization stood by its description of the discussions with lawyers for the State Department. The group said in its filing that \\\"the State Department has represented that no responsive records exist.\\\"\\n\\n\\n\\nRaj Shah, the RNC spokesman, added, \\\"It's hard to believe that an IT staffer who set up Hillary Clinton's reckless email server never sent or received a single work-related email in the four years he worked at the State Department.\\\" Clinton's campaign officials declined to comment in response to questions from The Associated Press.\\n\\n\\n\\nTrudeau said the State Department is working with Congress and several public records requesters to provide relevant material. She also said agency officials continue to search for \\\"Mr. Pagliano's emails, which the department may have otherwise retained.\\\" Trudeau also said the department would respond further to the RNC in court.\\n\\n\\n\\nState Department officials told Senate investigators last year they could not find a file containing Pagliano's work emails during Clinton's tenure, an assertion first reported by Politico.\\n\\n\\n\\nFox News reported in March that Pagliano has revealed several details about Clinton's personal email system to investigators, including\\u00a0who had access to it\\u2013 as well as when and what devices were used. An intelligence source close to the case told Fox News that Pagliano has been a \\\"devastating witness\\\" to Clinton.\\n\\nThe one email sent by Pagliano that surfaced among Clinton's 30,000 emails was sent to Clinton was a November 2012 birthday greeting. He wished her \\\"Happy Birthday Madam Secretary. To many more!\\\"\\n\\n\\n\\nPagliano's email address was censored, unlike numerous official State Department addresses that are listed in Clinton's emails -- suggesting he may have sent the message from a private address.\\n\\nClinton did not reply directly to Pagliano. Instead, she sent a copy of an email to an aide with the instruction \\\"Pls respond.\\\"\\n\\n \\n\\n The Associated Press contributed to this report.\"\n        ],\n        \"semantic_type\": \"\",\n        \"description\": \"\"\n      }\n    },\n    {\n      \"column\": \"label\",\n      \"properties\": {\n        \"dtype\": \"category\",\n        \"num_unique_values\": 2,\n        \"samples\": [\n          \"REAL\",\n          \"FAKE\"\n        ],\n        \"semantic_type\": \"\",\n        \"description\": \"\"\n      }\n    }\n  ]\n}"
            }
          },
          "metadata": {},
          "execution_count": 3
        }
      ]
    },
    {
      "cell_type": "code",
      "source": [
        "news_data.info()"
      ],
      "metadata": {
        "colab": {
          "base_uri": "https://localhost:8080/"
        },
        "id": "vdO8rFnWlaOf",
        "outputId": "01eb18e6-85fb-4c70-9a60-a7457e6450be"
      },
      "execution_count": null,
      "outputs": [
        {
          "output_type": "stream",
          "name": "stdout",
          "text": [
            "<class 'pandas.core.frame.DataFrame'>\n",
            "RangeIndex: 6335 entries, 0 to 6334\n",
            "Data columns (total 4 columns):\n",
            " #   Column      Non-Null Count  Dtype \n",
            "---  ------      --------------  ----- \n",
            " 0   Unnamed: 0  6335 non-null   int64 \n",
            " 1   title       6335 non-null   object\n",
            " 2   text        6335 non-null   object\n",
            " 3   label       6335 non-null   object\n",
            "dtypes: int64(1), object(3)\n",
            "memory usage: 198.1+ KB\n"
          ]
        }
      ]
    },
    {
      "cell_type": "code",
      "source": [
        "news_data.shape"
      ],
      "metadata": {
        "colab": {
          "base_uri": "https://localhost:8080/"
        },
        "id": "e81K8bH7let5",
        "outputId": "a1e07f84-5626-4ec7-f05d-8d3e2bde15f0"
      },
      "execution_count": null,
      "outputs": [
        {
          "output_type": "execute_result",
          "data": {
            "text/plain": [
              "(6335, 4)"
            ]
          },
          "metadata": {},
          "execution_count": 5
        }
      ]
    },
    {
      "cell_type": "code",
      "source": [
        "news_data[\"label\"].value_counts()"
      ],
      "metadata": {
        "colab": {
          "base_uri": "https://localhost:8080/"
        },
        "id": "o0W58tNElirr",
        "outputId": "7f1d9f4c-5dfd-4f9a-b795-6a43bdcf64af"
      },
      "execution_count": null,
      "outputs": [
        {
          "output_type": "execute_result",
          "data": {
            "text/plain": [
              "label\n",
              "REAL    3171\n",
              "FAKE    3164\n",
              "Name: count, dtype: int64"
            ]
          },
          "metadata": {},
          "execution_count": 6
        }
      ]
    },
    {
      "cell_type": "code",
      "source": [
        "labels= news_data.label\n",
        "labels.tail(10)"
      ],
      "metadata": {
        "colab": {
          "base_uri": "https://localhost:8080/"
        },
        "id": "UxLehN8YlnAG",
        "outputId": "5ad31806-bd04-4801-c668-3fb92e988945"
      },
      "execution_count": null,
      "outputs": [
        {
          "output_type": "execute_result",
          "data": {
            "text/plain": [
              "6325    FAKE\n",
              "6326    FAKE\n",
              "6327    REAL\n",
              "6328    FAKE\n",
              "6329    FAKE\n",
              "6330    REAL\n",
              "6331    FAKE\n",
              "6332    FAKE\n",
              "6333    REAL\n",
              "6334    REAL\n",
              "Name: label, dtype: object"
            ]
          },
          "metadata": {},
          "execution_count": 7
        }
      ]
    },
    {
      "cell_type": "code",
      "source": [
        "#First, we split the dataset into train & test samples:\n",
        "x_train, x_test, y_train, y_test= train_test_split(news_data[\"text\"], labels, test_size= 0.4, random_state= 7)"
      ],
      "metadata": {
        "id": "j6zjimCKlq2P"
      },
      "execution_count": null,
      "outputs": []
    },
    {
      "cell_type": "code",
      "source": [
        "#Then we’ll initialize TfidfVectorizer with English stop words\n",
        "vectorizer=TfidfVectorizer(stop_words='english', max_df=0.7)\n",
        "tfidf_train=vectorizer.fit_transform(x_train)\n",
        "tfidf_test=vectorizer.transform(x_test)"
      ],
      "metadata": {
        "id": "YXHutirYlxB9"
      },
      "execution_count": null,
      "outputs": []
    },
    {
      "cell_type": "code",
      "source": [
        "#Create a PassiveAggressiveClassifier\n",
        "passive=PassiveAggressiveClassifier(max_iter=50)\n",
        "passive.fit(tfidf_train,y_train)\n",
        "\n",
        "y_pred=passive.predict(tfidf_test)"
      ],
      "metadata": {
        "id": "0BRB_Ysyl2lp"
      },
      "execution_count": null,
      "outputs": []
    },
    {
      "cell_type": "code",
      "source": [
        "#Create a confusion matrix\n",
        "matrix= confusion_matrix(y_test,y_pred, labels=['FAKE','REAL'])\n",
        "matrix"
      ],
      "metadata": {
        "colab": {
          "base_uri": "https://localhost:8080/"
        },
        "id": "Bwh_zCO8l6kL",
        "outputId": "04891c07-dbe6-4d50-8a5f-db0a29c77564"
      },
      "execution_count": null,
      "outputs": [
        {
          "output_type": "execute_result",
          "data": {
            "text/plain": [
              "array([[1187,   83],\n",
              "       [  89, 1175]])"
            ]
          },
          "metadata": {},
          "execution_count": 11
        }
      ]
    },
    {
      "cell_type": "code",
      "source": [
        "#Visualize the confusion matrix\n",
        "sns.heatmap(matrix, annot=True)\n",
        "plt.show()"
      ],
      "metadata": {
        "colab": {
          "base_uri": "https://localhost:8080/",
          "height": 430
        },
        "id": "tDKs-XuUl_5k",
        "outputId": "f58aaa1f-6ab0-4900-e056-93b84d349850"
      },
      "execution_count": null,
      "outputs": [
        {
          "output_type": "display_data",
          "data": {
            "text/plain": [
              "<Figure size 640x480 with 2 Axes>"
            ],
            "image/png": "[encoded data removed]"
          },
          "metadata": {}
        }
      ]
    },
    {
      "cell_type": "code",
      "source": [
        "#Calculate the model's accuracy\n",
        "Accuracy=accuracy_score(y_test,y_pred)\n",
        "Accuracy*100"
      ],
      "metadata": {
        "colab": {
          "base_uri": "https://localhost:8080/"
        },
        "id": "Qy0Jnludl_tP",
        "outputId": "5b15a05a-5d57-4a0e-b842-577c302ac5dc"
      },
      "execution_count": null,
      "outputs": [
        {
          "output_type": "execute_result",
          "data": {
            "text/plain": [
              "93.21231254932913"
            ]
          },
          "metadata": {},
          "execution_count": 13
        }
      ]
    },
    {
      "cell_type": "code",
      "source": [
        "Report= classification_report(y_test, y_pred)\n",
        "print(Report)"
      ],
      "metadata": {
        "id": "copyTHMDmF4C",
        "outputId": "ed14116a-0c28-4c31-ee31-8740278e7191",
        "colab": {
          "base_uri": "https://localhost:8080/"
        }
      },
      "execution_count": null,
      "outputs": [
        {
          "output_type": "stream",
          "name": "stdout",
          "text": [
            "              precision    recall  f1-score   support\n",
            "\n",
            "        FAKE       0.93      0.93      0.93      1270\n",
            "        REAL       0.93      0.93      0.93      1264\n",
            "\n",
            "    accuracy                           0.93      2534\n",
            "   macro avg       0.93      0.93      0.93      2534\n",
            "weighted avg       0.93      0.93      0.93      2534\n",
            "\n"
          ]
        }
      ]
    }
  ]
}